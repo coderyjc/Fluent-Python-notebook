{
 "cells": [
  {
   "cell_type": "markdown",
   "metadata": {},
   "source": [
    "## 1.4 为什么len不是普通方法"
   ]
  },
  {
   "cell_type": "markdown",
   "metadata": {
    "vscode": {
     "languageId": "plaintext"
    }
   },
   "source": [
    "len之所以不是一个普通方法，是为了让Python自带的数据结构可以“走后门”\n",
    "\n",
    "在调用len(x)的时候，CPython会直接从一个C结构体里读取对象的长度，完全不会调用任何方法。"
   ]
  },
  {
   "cell_type": "markdown",
   "metadata": {
    "vscode": {
     "languageId": "plaintext"
    }
   },
   "source": [
    "## 1.5 本章小结"
   ]
  },
  {
   "cell_type": "markdown",
   "metadata": {
    "vscode": {
     "languageId": "plaintext"
    }
   },
   "source": [
    "通过实现特殊方法，自定义数据类型可以表现得跟内置类型一样，从而让我们写出更具表达力的代码——或者说，更具Python风格的代码"
   ]
  },
  {
   "cell_type": "markdown",
   "metadata": {
    "vscode": {
     "languageId": "plaintext"
    }
   },
   "source": [
    "## 1.6 延伸阅读"
   ]
  },
  {
   "cell_type": "markdown",
   "metadata": {
    "vscode": {
     "languageId": "plaintext"
    }
   },
   "source": [
    "1. [Python语言参考手册里的“DataModel”](https://docs.python.org/zh-cn/3/reference/datamodel.html)\n",
    "\n",
    "2. 《Python技术手册（第2版）​》—— Alex Martelli\n",
    "\n",
    "3. 《Python参考手册（第4版）​》、《Python Cookbook（第3版）中文版》​—— David Beazley\n",
    "\n",
    "4. 《The Art of the Metaobject Protocol》（又称AMOP，MIT出版社，1991年）—— Gregor Kiczales、Jim des Rivieres和Daniel G. Bobrow"
   ]
  }
 ],
 "metadata": {
  "language_info": {
   "name": "python"
  }
 },
 "nbformat": 4,
 "nbformat_minor": 2
}

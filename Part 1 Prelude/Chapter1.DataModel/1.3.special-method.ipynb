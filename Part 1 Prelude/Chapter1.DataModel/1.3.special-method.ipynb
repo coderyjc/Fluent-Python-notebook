{
 "cells": [
  {
   "cell_type": "markdown",
   "metadata": {},
   "source": [
    "## 1.3 特殊方法一览"
   ]
  },
  {
   "cell_type": "markdown",
   "metadata": {},
   "source": [
    "\n",
    "### 运算符无关方法\n",
    "\n",
    "| 类别                | 方法名 |\n",
    "|---------------------|--------------------------------------------------------------|\n",
    "| 字符串 / 字节序列表示形式 | `__repr__`, `__str__`, `__format__`, `__bytes__` |\n",
    "| 数值转换            | `__abs__`, `__bool__`, `__complex__`, `__int__`, `__float__`, `__hash__`, `__index__` |\n",
    "| 集合模拟            | `__len__`, `__getitem__`, `__setitem__`, `__delitem__`, `__contains__` |\n",
    "| 迭代枚举            | `__iter__`, `__reversed__`, `__next__` |\n",
    "| 可调用模拟          | `__call__` |\n",
    "| 上下文管理          | `__enter__`, `__exit__` |\n",
    "| 实例创建和销毁      | `__new__`, `__init__`, `__del__` |\n",
    "| 属性管理            | `__getattr__`, `__getattribute__`, `__setattr__`, `__delattr__`, `__dir__` |\n",
    "| 属性描述符          | `__get__`, `__set__`, `__delete__` |\n",
    "| 跟类相关的服务      | `__prepare__`, `__instancecheck__`, `__subclasscheck__` |\n"
   ]
  },
  {
   "cell_type": "markdown",
   "metadata": {},
   "source": [
    "### 运算符相关方法\n",
    "\n",
    "| 类别                  | 方法名和对应的运算符 |\n",
    "|----------------------|--------------------------------------------------------------|\n",
    "| 一元运算符          | `__neg__` `-` , `__pos__` `+` , `__abs__` `abs()` |\n",
    "| 众多比较运算符      | `__lt__` `<` , `__le__` `<=` , `__eq__` `==` , `__ne__` `!=` , `__gt__` `>` , `__ge__` `>=` |\n",
    "| 算术运算符          | `__add__` `+` , `__sub__` `-` , `__mul__` `*` , `__truediv__` `/` , `__floordiv__` `//` , `__mod__` `%` , `__divmod__` `divmod()` , `__pow__` `**` 或 `pow()` , `__round__` `round()` |\n",
    "| 反向算术运算符      | `__radd__` , `__rsub__` , `__rmul__` , `__rtruediv__` , `__rfloordiv__` , `__rmod__` , `__rdivmod__` , `__rpow__` |\n",
    "| 增量赋值算术运算符  | `__iadd__` , `__isub__` , `__imul__` , `__itruediv__` , `__ifloordiv__` , `__imod__` , `__ipow__` |\n",
    "| 位运算符            | `__invert__` `~` , `__lshift__` `<<` , `__rshift__` `>>` , `__and__` `&` , `__or__` `|` , `__xor__` `^` |\n",
    "| 反向位运算符        | `__rlshift__` , `__rrshift__` , `__rand__` , `__rxor__` , `__ror__` |\n",
    "| 增量赋值位运算符    | `__ilshift__` , `__irshift__` , `__iand__` , `__ixor__` , `__ior__` |\n"
   ]
  }
 ],
 "metadata": {
  "language_info": {
   "name": "python"
  }
 },
 "nbformat": 4,
 "nbformat_minor": 2
}
